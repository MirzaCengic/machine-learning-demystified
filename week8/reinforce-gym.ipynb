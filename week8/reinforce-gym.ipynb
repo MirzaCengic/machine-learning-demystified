{
 "cells": [
  {
   "cell_type": "code",
   "execution_count": 27,
   "metadata": {
    "collapsed": true,
    "deletable": true,
    "editable": true
   },
   "outputs": [],
   "source": [
    "import gym\n",
    "import matplotlib.pyplot as plt\n",
    "import matplotlib\n",
    "import matplotlib.animation as animation\n",
    "from IPython.display import HTML\n",
    "import numpy as np\n",
    "%matplotlib inline"
   ]
  },
  {
   "cell_type": "code",
   "execution_count": 3,
   "metadata": {
    "collapsed": true
   },
   "outputs": [],
   "source": [
    "from PIL import Image, ImageDraw\n",
    "\n",
    "# helper functions to plot gym images inside jupyter\n",
    "\n",
    "try:\n",
    "    from pyglet.gl import gl_info\n",
    "    openai_cart_pole_rendering = True   # no problem, let's use OpenAI gym's rendering function\n",
    "except Exception:\n",
    "    openai_cart_pole_rendering = False  # probably no X server available, let's use our own rendering function\n",
    "\n",
    "def render_cart_pole(env, obs):\n",
    "    if openai_cart_pole_rendering:\n",
    "        # use OpenAI gym's rendering function\n",
    "        return env.render(mode=\"rgb_array\")\n",
    "    else:\n",
    "        # rendering for the cart pole environment (in case OpenAI gym can't do it)\n",
    "        img_w = 600\n",
    "        img_h = 400\n",
    "        cart_w = img_w // 12\n",
    "        cart_h = img_h // 15\n",
    "        pole_len = img_h // 3.5\n",
    "        pole_w = img_w // 80 + 1\n",
    "        x_width = 2\n",
    "        max_ang = 0.2\n",
    "        bg_col = (255, 255, 255)\n",
    "        cart_col = 0x000000 # Blue Green Red\n",
    "        pole_col = 0x669acc # Blue Green Red\n",
    "\n",
    "        pos, vel, ang, ang_vel = obs\n",
    "        img = Image.new('RGB', (img_w, img_h), bg_col)\n",
    "        draw = ImageDraw.Draw(img)\n",
    "        cart_x = pos * img_w // x_width + img_w // x_width\n",
    "        cart_y = img_h * 95 // 100\n",
    "        top_pole_x = cart_x + pole_len * np.sin(ang)\n",
    "        top_pole_y = cart_y - cart_h // 2 - pole_len * np.cos(ang)\n",
    "        draw.line((0, cart_y, img_w, cart_y), fill=0)\n",
    "        draw.rectangle((cart_x - cart_w // 2, cart_y - cart_h // 2, cart_x + cart_w // 2, cart_y + cart_h // 2), fill=cart_col) # draw cart\n",
    "        draw.line((cart_x, cart_y - cart_h // 2, top_pole_x, top_pole_y), fill=pole_col, width=pole_w) # draw pole\n",
    "        return np.array(img)\n",
    "\n",
    "def plot_cart_pole(env, obs):\n",
    "    plt.close()  # or else nbagg sometimes plots in the previous cell\n",
    "    img = render_cart_pole(env, obs)\n",
    "    plt.imshow(img)\n",
    "    plt.axis(\"off\")\n",
    "    plt.show()\n",
    "    \n",
    "def plot_animation(frames, repeat=False, interval=40):\n",
    "    plt.close()  # or else nbagg sometimes plots in the previous cell\n",
    "    fig = plt.figure()\n",
    "    patch = plt.imshow(frames[0])\n",
    "    plt.axis('off')\n",
    "    return animation.FuncAnimation(fig, update_scene, fargs=(frames, patch), frames=len(frames), repeat=repeat, interval=interval)\n",
    "\n",
    "def update_scene(num, frames, patch):\n",
    "    patch.set_data(frames[num])\n",
    "    return patch,\n",
    "\n",
    "def plot_environment(env, figsize=(5,4)):\n",
    "    plt.close()  # or else nbagg sometimes plots in the previous cell\n",
    "    plt.figure(figsize=figsize)\n",
    "    img = env.render(mode=\"rgb_array\")\n",
    "    plt.imshow(img)\n",
    "    plt.axis(\"off\")\n",
    "    plt.show()"
   ]
  },
  {
   "cell_type": "code",
   "execution_count": 4,
   "metadata": {
    "collapsed": false,
    "deletable": true,
    "editable": true
   },
   "outputs": [
    {
     "name": "stderr",
     "output_type": "stream",
     "text": [
      "[2017-04-21 01:16:38,662] Making new env: CartPole-v0\n"
     ]
    }
   ],
   "source": [
    "env = gym.make(\"CartPole-v0\")"
   ]
  },
  {
   "cell_type": "code",
   "execution_count": 5,
   "metadata": {
    "collapsed": true,
    "deletable": true,
    "editable": true
   },
   "outputs": [],
   "source": [
    "obs = env.reset()"
   ]
  },
  {
   "cell_type": "code",
   "execution_count": 6,
   "metadata": {
    "collapsed": false,
    "deletable": true,
    "editable": true
   },
   "outputs": [
    {
     "data": {
      "text/plain": [
       "array([ 0.02667122, -0.00527884,  0.02540373, -0.02214148])"
      ]
     },
     "execution_count": 6,
     "metadata": {},
     "output_type": "execute_result"
    }
   ],
   "source": [
    "obs \n",
    "\n",
    "# 4 observations\n",
    "# 1. horizontal position of cart on x axis\n",
    "# 2. velocity of cart - neg moving to the left, positive moving to the right\n",
    "# 3. angle of the pole\n",
    "# 4. angular velocity - neg means tilted to left, pos tilted to right"
   ]
  },
  {
   "cell_type": "code",
   "execution_count": 7,
   "metadata": {
    "collapsed": false,
    "deletable": true,
    "editable": true
   },
   "outputs": [
    {
     "data": {
      "image/png": "[encoded data removed]",
      "text/plain": [
       "<matplotlib.figure.Figure at 0x2123035c748>"
      ]
     },
     "metadata": {},
     "output_type": "display_data"
    }
   ],
   "source": [
    "plot_cart_pole(env, obs)"
   ]
  },
  {
   "cell_type": "code",
   "execution_count": 8,
   "metadata": {
    "collapsed": true
   },
   "outputs": [],
   "source": [
    "env.close()"
   ]
  },
  {
   "cell_type": "code",
   "execution_count": 9,
   "metadata": {
    "collapsed": false,
    "deletable": true,
    "editable": true
   },
   "outputs": [
    {
     "data": {
      "text/plain": [
       "Discrete(2)"
      ]
     },
     "execution_count": 9,
     "metadata": {},
     "output_type": "execute_result"
    }
   ],
   "source": [
    "# possible actions\n",
    "\n",
    "env.action_space\n",
    "\n",
    "# 2 discrete actions\n",
    "# 0 - move to the left\n",
    "# 1 - move to the right"
   ]
  },
  {
   "cell_type": "code",
   "execution_count": 19,
   "metadata": {
    "collapsed": true,
    "deletable": true,
    "editable": true
   },
   "outputs": [],
   "source": [
    "action = 1 # accelerate to the right"
   ]
  },
  {
   "cell_type": "code",
   "execution_count": 20,
   "metadata": {
    "collapsed": true,
    "deletable": true,
    "editable": true
   },
   "outputs": [],
   "source": [
    "obs, reward, done, info = env.step(action)"
   ]
  },
  {
   "cell_type": "code",
   "execution_count": 21,
   "metadata": {
    "collapsed": false,
    "deletable": true,
    "editable": true
   },
   "outputs": [
    {
     "data": {
      "text/plain": [
       "array([ 0.02620735, -0.00653527,  0.024548  ,  0.00558367])"
      ]
     },
     "execution_count": 21,
     "metadata": {},
     "output_type": "execute_result"
    }
   ],
   "source": [
    "obs"
   ]
  },
  {
   "cell_type": "code",
   "execution_count": 22,
   "metadata": {
    "collapsed": false,
    "deletable": true,
    "editable": true
   },
   "outputs": [
    {
     "data": {
      "text/plain": [
       "1.0"
      ]
     },
     "execution_count": 22,
     "metadata": {},
     "output_type": "execute_result"
    }
   ],
   "source": [
    "reward  # always gets 1 as reward, so longer it stays up the better"
   ]
  },
  {
   "cell_type": "code",
   "execution_count": 23,
   "metadata": {
    "collapsed": false,
    "deletable": true,
    "editable": true
   },
   "outputs": [
    {
     "data": {
      "text/plain": [
       "False"
      ]
     },
     "execution_count": 23,
     "metadata": {},
     "output_type": "execute_result"
    }
   ],
   "source": [
    "done  # will return true when the pole tilts too much and has to be reset, when an episode is over"
   ]
  },
  {
   "cell_type": "code",
   "execution_count": 24,
   "metadata": {
    "collapsed": false,
    "deletable": true,
    "editable": true
   },
   "outputs": [
    {
     "data": {
      "text/plain": [
       "{}"
      ]
     },
     "execution_count": 24,
     "metadata": {},
     "output_type": "execute_result"
    }
   ],
   "source": [
    "info  # provides extra debug info"
   ]
  },
  {
   "cell_type": "code",
   "execution_count": 25,
   "metadata": {
    "collapsed": true,
    "deletable": true,
    "editable": true
   },
   "outputs": [],
   "source": [
    "def basic_policy(obs):\n",
    "    angle = obs[2]\n",
    "    return 0 if angle < 0 else 1  # move left if tilting to the left, move right if tilting to the right"
   ]
  },
  {
   "cell_type": "code",
   "execution_count": 26,
   "metadata": {
    "collapsed": true,
    "deletable": true,
    "editable": true
   },
   "outputs": [],
   "source": [
    "totals = []\n",
    "\n",
    "for episode in range(500): # run 500 episodes, episode is reset when pole tilts too much\n",
    "    episode_rewards = 0\n",
    "    obs = env.reset()\n",
    "    for step in range(1000): # run 1000 steps so we dont run forever\n",
    "        action = basic_policy(obs)\n",
    "        obs, reward, done, info = env.step(action)\n",
    "        episode_rewards += reward\n",
    "        if done:  # if pole tilted too much\n",
    "            break\n",
    "    totals.append(episode_rewards)  # keep track of rewards for each episode"
   ]
  },
  {
   "cell_type": "code",
   "execution_count": 28,
   "metadata": {
    "collapsed": false,
    "deletable": true,
    "editable": true
   },
   "outputs": [
    {
     "name": "stdout",
     "output_type": "stream",
     "text": [
      "Mean Reward:  41.806\n",
      "Std Dev 41.806\n",
      "Min Reward 25.0\n",
      "Max Reward 72.0\n"
     ]
    }
   ],
   "source": [
    "print(\"Mean Reward: \", np.mean(totals)) # mean reward across 500 episodes\n",
    "print(\"Std Dev\", np.mean(totals))  \n",
    "print(\"Min Reward\", np.min(totals))  # worst performance in all episodes\n",
    "print(\"Max Reward\", np.max(totals))  # max number of steps it was able to keep it standing up for"
   ]
  },
  {
   "cell_type": "code",
   "execution_count": 29,
   "metadata": {
    "collapsed": true,
    "deletable": true,
    "editable": true
   },
   "outputs": [],
   "source": [
    "env.close()"
   ]
  },
  {
   "cell_type": "code",
   "execution_count": 34,
   "metadata": {
    "collapsed": false,
    "deletable": true,
    "editable": true
   },
   "outputs": [
    {
     "name": "stderr",
     "output_type": "stream",
     "text": [
      "[2017-04-21 01:24:46,250] Making new env: CartPole-v0\n"
     ]
    },
    {
     "name": "stdout",
     "output_type": "stream",
     "text": [
      "Step 38\n"
     ]
    }
   ],
   "source": [
    "# rendering out a short animation\n",
    "\n",
    "frames = []\n",
    "\n",
    "env = gym.make(\"CartPole-v0\")\n",
    "\n",
    "max_steps = 10000\n",
    "change_steps = 10\n",
    "\n",
    "obs = env.reset()\n",
    "\n",
    "for step in range(max_steps):\n",
    "    img = render_cart_pole(env, obs)\n",
    "    frames.append(img)\n",
    "    \n",
    "    #hard coded policy\n",
    "    if obs[2] < 0:\n",
    "        action = 0\n",
    "    else:\n",
    "        action = 1\n",
    "        \n",
    "    obs, reward, done, info = env.step(action)\n",
    "    \n",
    "    if done:\n",
    "        print(\"Step\",step)\n",
    "        break\n",
    "        \n",
    "env.close()"
   ]
  },
  {
   "cell_type": "code",
   "execution_count": 35,
   "metadata": {
    "collapsed": false,
    "deletable": true,
    "editable": true
   },
   "outputs": [
    {
     "data": {
      "text/html": [
       "<video width=\"432\" height=\"288\" controls autoplay>\n",
       "  <source type=\"video/mp4\" src=\"data:video/mp4;base64,AAAAHGZ0eXBNNFYgAAACAGlzb21pc28yYXZjMQAAAAhmcmVlAAANwm1kYXQAAAKuBgX//6rcRem9\n",
       "5tlIt5Ys2CDZI+7veDI2NCAtIGNvcmUgMTQ4IHIyNjM4IDc1OTkyMTAgLSBILjI2NC9NUEVHLTQg\n",
       "QVZDIGNvZGVjIC0gQ29weWxlZnQgMjAwMy0yMDE1IC0gaHR0cDovL3d3dy52aWRlb2xhbi5vcmcv\n",
       "eDI2NC5odG1sIC0gb3B0aW9uczogY2FiYWM9MSByZWY9MyBkZWJsb2NrPTE6MDowIGFuYWx5c2U9\n",
       "MHgzOjB4MTEzIG1lPWhleCBzdWJtZT03IHBzeT0xIHBzeV9yZD0xLjAwOjAuMDAgbWl4ZWRfcmVm\n",
       "PTEgbWVfcmFuZ2U9MTYgY2hyb21hX21lPTEgdHJlbGxpcz0xIDh4OGRjdD0xIGNxbT0wIGRlYWR6\n",
       "b25lPTIxLDExIGZhc3RfcHNraXA9MSBjaHJvbWFfcXBfb2Zmc2V0PS0yIHRocmVhZHM9OSBsb29r\n",
       "YWhlYWRfdGhyZWFkcz0xIHNsaWNlZF90aHJlYWRzPTAgbnI9MCBkZWNpbWF0ZT0xIGludGVybGFj\n",
       "ZWQ9MCBibHVyYXlfY29tcGF0PTAgY29uc3RyYWluZWRfaW50cmE9MCBiZnJhbWVzPTMgYl9weXJh\n",
       "bWlkPTIgYl9hZGFwdD0xIGJfYmlhcz0wIGRpcmVjdD0xIHdlaWdodGI9MSBvcGVuX2dvcD0wIHdl\n",
       "aWdodHA9MiBrZXlpbnQ9MjUwIGtleWludF9taW49MjUgc2NlbmVjdXQ9NDAgaW50cmFfcmVmcmVz\n",
       "aD0wIHJjX2xvb2thaGVhZD00MCByYz1jcmYgbWJ0cmVlPTEgY3JmPTIzLjAgcWNvbXA9MC42MCBx\n",
       "cG1pbj0wIHFwbWF4PTY5IHFwc3RlcD00IGlwX3JhdGlvPTEuNDAgYXE9MToxLjAwAIAAAAE5ZYiE\n",
       "ADv//vdOvwKbRZdqA5JXCvbKpCZZuVJrAfKmAAADAAARsG58lw15q9IkAACtgAI4M4+Fstecj7bl\n",
       "+B4ACtIqVUzaxvQyBxUAr/cUkSG9W2lKrSjvOEfX7W5HObl+uLQCQ5E/HnuU/EN/XipHuUV9gf3T\n",
       "w36qd6SEgvSYpkPOsHKZz0IdJnnEFWDk47l+NkDGC0AgFhkNRK16uYhYPrgz2BAbLal/qoZqi20f\n",
       "xGp+667vaWLYwUcSjND0YfpUmwKUA+2mhetAk6mHwaI3kswvVu5o7SODXKcFKs2H79Kc1sR/fDoT\n",
       "9JYkqwe/T4f/tHubjjtZDFDWAbLwPPnpruswCwhWtO9XhhFGOy8sgFE6mRPgWKjbiFx8l+87YFY7\n",
       "ln4FiaKNCJrZMWN06GOw42iAAAADAABgQQAAAFBBmiRsQ7/+qZYAArrWgQWAImugF8DvGYVPorcE\n",
       "CaXfCNvVkyJXo6dOH5fL4ZWzMktCXIDh7gJ/OKQN0q3+yJPhSHGc+T0NXUirLECoDxeWkAAAACFB\n",
       "nkJ4hf8AAzjZvY3bqLv6LXqRehNFGABkuKNU5gRsRqMAAAAQAZ5hdEK/AABDfFFpFsz7QAAAACsB\n",
       "nmNqQr8ABFbUVBtKzUQNQANuFLvcOG/+iQPaBC/nKsoHNJdd3eLnwJODAAAARUGaaEmoQWiZTAh3\n",
       "//6plgACuBOuY3QY38Gw+MdxtrmGaNE5FU7X78nxZ5lgGIQ5ciYDD50LB0NfbfJZbD6T7hS5Wxt2\n",
       "jwAAAC9BnoZFESwv/wADOMrcv17qZCe3gBYuksPJW9kqpKdmQC3AjcKss8Y1GFtm+iHzwQAAABYB\n",
       "nqV0Qr8ABFfFDCQLJWIkb+Iw88hBAAAAIQGep2pCvwAEVkgJ1CqmDIy3bDAA7HIjuA9+GSoCgBBv\n",
       "4QAAAF1BmqxJqEFsmUwId//+qZYAArpkREFgCJUIlb9z8JoylYMyXvbYnxEkAkcOXb1TxZ7CDWwb\n",
       "s1UZnTGbjhVt3JyhaWesc4Vmf2K9q0AIDwCdbR5ukd+Vbbf/qGtpYf8AAAA0QZ7KRRUsL/8AAzhi\n",
       "sszp716ogWIM+3m3qoi4AQfsI7hDGOMntHxjGNihJex6VTgtj7j8pwAAADEBnul0Qr8ABFe/wssL\n",
       "bVEzpgmAEskiRy+pfyPc5Knfhysq3QNzEDfYmyH+NOzCPw2AAAAAKQGe62pCvwAEVt0bu3xKjZZr\n",
       "AiKdXQICcsAAOcjq1jdFq4gk+AZlqbO2AAAAREGa8EmoQWyZTAh3//6plgACuC4mUXozi9Khdvov\n",
       "vkNAA68KFRLE/QiNwTIhFbzExrY/RTAQTKE9WDUw+L057XvGvq+BAAAALUGfDkUVLC//AAY3c7Tj\n",
       "+cJ3LJIKzE5yianiCEr6niABepgWTM+r42BDM8WcYQAAABUBny10Qr8ACGuiSdv+Epo5yjaAX5EA\n",
       "AAAsAZ8vakK/AAhuwGm/QkW90AUMXr/kUArkR2ADhXB1mqswOV4krO4yLnox6hoAAACoQZs0SahB\n",
       "bJlMCHf//qmWAAK6ZNvhABwf2UDD74UmXKoWdoNn/0bYrX5dOBSjbJJLAZl+3nw9/8ywJuxi+9w6\n",
       "2hEANGkLKmNTQHJJpRInZNqccC1woGlmZycoPAmyhfmZPyn4pf14LadR4zplpWt68ubixlOHr6G8\n",
       "dJ5MXu7XSg4bRyYI/bQsGi3yeXUhf6mJJZIyhOT/jLQA9IPHmloVbm44yFLjLf9wAAAAMEGfUkUV\n",
       "LC//AAZKIxGuhn3+ADRcFyueEXzfTGfgdIHZH7qcp7+8tGsAqexT6KyNgQAAABoBn3F0Qr8ABDhA\n",
       "x1HkJhADSUuc1HjR0sHGBAAAACsBn3NqQr8ABFbTihSrWF17K1hO5l0Jho8pfcfCLLDtABzkY+6n\n",
       "b9KrKfVYAAAAmEGbeEmoQWyZTAh3//6plgACumUYlikPvQA4RAKOgMgPGoyt88oVdN7GTg8/t7nq\n",
       "LingzZentN5HOEbp/xZwDKU/0K6NFj3RDr1Ev7n/V5qT/U+K+o78ByKLgY8S/GiDTlLy9uqfAt3x\n",
       "dAK3N2hMiPLYYmUgF+zRtC/qTmJE76HT1mlB31hPcVGChifLXZU008VDjE4tme2tAAAAQEGflkUV\n",
       "LC//AAM3Iher28iXUAMsxhSTR9kGNfpmb2YIsSf0A9xDSbwuiCwbIZEjHxkYgOoCHbBaQ4CIoIyH\n",
       "KjAAAAAsAZ+1dEK/AARUPm4YgQO4k6pYWuiiPu/oh0yh2AAdXj3FR+8iO1D6sDzuvkEAAAAsAZ+3\n",
       "akK/AARTy0mmnl0KuwV8dmp0x8T+6rEuwAL5kVDTHTrUHPliHSBfCQsAAAB4QZu8SahBbJlMCG//\n",
       "/qeEAAVpIODJuWgAjJtc9JbML6abPhzRzSH/BgBByNRbUPO3sdFokwk64wIyACXdplAoz/uI6Fkj\n",
       "Nt/RX1ZHs98do8S2Sj+GKPooYkZxiB4X/2LP5lp/jUDBYjjqoFYf0cIL4GLh0CckE7WHAAAAO0Gf\n",
       "2kUVLC//AAZyIt75ZY13IAhY90XDtyF0VNJ/GhaXUFWg8E0HhUdY0c0EzATaIYceKNKEzijj300F\n",
       "AAAAIQGf+XRCvwAEVc2NZn6xTDnpqz+3ntUADqdgCcyspZJhWAAAADgBn/tqQr8ABFLWAIAC1ZT0\n",
       "0bw+A6saKVJ6DxsfAAvruptd9VvdeZslVDfDOxYhjdm0dy80xGZoIQAAAFZBm+BJqEFsmUwIb//+\n",
       "p4QABWko7UJjxSM9QAKxGSfEUhWG/vacVhGD/B0xEWbQ+aVYr3Oeb8yAPopnNwHf+BDZ9sCoT0CT\n",
       "MhrPkxEt9A8XLc5FToGFgQAAAENBnh5FFSwv/wADNsX6QJl3lfr4xZRa5n5O6TsvhPVmyzjT5QDm\n",
       "gBJFK9Kg2fKDJ4T5GIpjet/IXVDaoFTDDj0hLKgsAAAAJwGePXRCvwAENdEkCGxC6D6/82vQqTng\n",
       "3MqZrDiuL6glvUJXSr0BwAAAACEBnj9qQr8ABFZD6pwm52Noe3XUYqOWo3ks4D0zpmzR1ykAAACv\n",
       "QZokSahBbJlMCGf//p4QABUYuOPstAAsn73dxn2xF+288Fgqi8nVLKrPF3F0L1QDIc3u+y3UdTtN\n",
       "90S0QzQDEyXbdvfN0m5PmDUhig961LzvY+WfJlPATdfSyuIWi4AHSI9GXVMiBBSPKtdZKpEFfL2v\n",
       "UA5lQV74PgphFXUHGixGf2dzS0wA4cfnKZ/BIhBUNRF45eHNpn7fCdgGzDgBrWv+dGZsDtI6jBNs\n",
       "A5y4QAAAAFRBnkJFFSwv/wADN1dBMiP/8OgAk5cy3eqYh2QNJRhdchhhusEuWXhXUF94z5wyxDWE\n",
       "Ke53M13SQ/cptSguPMk5Gax3b1J8mb4aj7lHBvN41IGC0MEAAAAiAZ5hdEK/AARXwY/T6DakIj3A\n",
       "CNw7WN5Y/pb/1hKI5GkqwAAAAD4BnmNqQr8ABFTfUCabAC0LMfR7LSqrCIxU5IlMLGgYCNylfx/T\n",
       "qt2HWe5K6SQN6LZxct4masDJn8RUZT7MwQAAAGNBmmZJqEFsmUwUTCv//jhAAFG11S2AFrfhPZ5J\n",
       "JI5ulf0G5WnDpcWDVnewC5QhirDjEghDxfJZWCbFfmLx3/McA1s4fPna1u/iNr8v/hc9AkKV1kC1\n",
       "xMXqT26dkDSh5dC4XIEAAAA/AZ6FakK/AAIqQnkOFb/USzeELeFJRcYbACcVUcGSfXKcRXdkZIs8\n",
       "9+tJan0V6k0M4Dj0W7Oyba9VA47QRxVhAAAFAm1vb3YAAABsbXZoZAAAAAAAAAAAAAAAAAAAA+gA\n",
       "AAYYAAEAAAEAAAAAAAAAAAAAAAABAAAAAAAAAAAAAAAAAAAAAQAAAAAAAAAAAAAAAAAAQAAAAAAA\n",
       "AAAAAAAAAAAAAAAAAAAAAAAAAAAAAAAAAAIAAAQsdHJhawAAAFx0a2hkAAAAAwAAAAAAAAAAAAAA\n",
       "AQAAAAAAAAYYAAAAAAAAAAAAAAAAAAAAAAABAAAAAAAAAAAAAAAAAAAAAQAAAAAAAAAAAAAAAAAA\n",
       "QAAAAAGwAAABIAAAAAAAJGVkdHMAAAAcZWxzdAAAAAAAAAABAAAGGAAABAAAAQAAAAADpG1kaWEA\n",
       "AAAgbWRoZAAAAAAAAAAAAAAAAAAAMgAAAE4AVcQAAAAAAC1oZGxyAAAAAAAAAAB2aWRlAAAAAAAA\n",
       "AAAAAAAAVmlkZW9IYW5kbGVyAAAAA09taW5mAAAAFHZtaGQAAAABAAAAAAAAAAAAAAAkZGluZgAA\n",
       "ABxkcmVmAAAAAAAAAAEAAAAMdXJsIAAAAAEAAAMPc3RibAAAALNzdHNkAAAAAAAAAAEAAACjYXZj\n",
       "MQAAAAAAAAABAAAAAAAAAAAAAAAAAAAAAAGwASAASAAAAEgAAAAAAAAAAQAAAAAAAAAAAAAAAAAA\n",
       "AAAAAAAAAAAAAAAAAAAAAAAAABj//wAAADFhdmNDAWQAFf/hABhnZAAVrNlBsJaEAAADAAQAAAMA\n",
       "yDxYtlgBAAZo6+PLIsAAAAAcdXVpZGtoQPJfJE/FujmlG88DI/MAAAAAAAAAGHN0dHMAAAAAAAAA\n",
       "AQAAACcAAAIAAAAAFHN0c3MAAAAAAAAAAQAAAAEAAAFIY3R0cwAAAAAAAAAnAAAAAQAABAAAAAAB\n",
       "AAAKAAAAAAEAAAQAAAAAAQAAAAAAAAABAAACAAAAAAEAAAoAAAAAAQAABAAAAAABAAAAAAAAAAEA\n",
       "AAIAAAAAAQAACgAAAAABAAAEAAAAAAEAAAAAAAAAAQAAAgAAAAABAAAKAAAAAAEAAAQAAAAAAQAA\n",
       "AAAAAAABAAACAAAAAAEAAAoAAAAAAQAABAAAAAABAAAAAAAAAAEAAAIAAAAAAQAACgAAAAABAAAE\n",
       "AAAAAAEAAAAAAAAAAQAAAgAAAAABAAAKAAAAAAEAAAQAAAAAAQAAAAAAAAABAAACAAAAAAEAAAoA\n",
       "AAAAAQAABAAAAAABAAAAAAAAAAEAAAIAAAAAAQAACgAAAAABAAAEAAAAAAEAAAAAAAAAAQAAAgAA\n",
       "AAABAAAGAAAAAAEAAAIAAAAAHHN0c2MAAAAAAAAAAQAAAAEAAAAnAAAAAQAAALBzdHN6AAAAAAAA\n",
       "AAAAAAAnAAAD7wAAAFQAAAAlAAAAFAAAAC8AAABJAAAAMwAAABoAAAAlAAAAYQAAADgAAAA1AAAA\n",
       "LQAAAEgAAAAxAAAAGQAAADAAAACsAAAANAAAAB4AAAAvAAAAnAAAAEQAAAAwAAAAMAAAAHwAAAA/\n",
       "AAAAJQAAADwAAABaAAAARwAAACsAAAAlAAAAswAAAFgAAAAmAAAAQgAAAGcAAABDAAAAFHN0Y28A\n",
       "AAAAAAAAAQAAACwAAABidWR0YQAAAFptZXRhAAAAAAAAACFoZGxyAAAAAAAAAABtZGlyYXBwbAAA\n",
       "AAAAAAAAAAAAAC1pbHN0AAAAJal0b28AAAAdZGF0YQAAAAEAAAAATGF2ZjU2LjQwLjEwMQ==\n",
       "\">\n",
       "  Your browser does not support the video tag.\n",
       "</video>"
      ],
      "text/plain": [
       "<IPython.core.display.HTML object>"
      ]
     },
     "execution_count": 35,
     "metadata": {},
     "output_type": "execute_result"
    },
    {
     "data": {
      "image/png": "[encoded data removed]",
      "text/plain": [
       "<matplotlib.figure.Figure at 0x2123018f5f8>"
      ]
     },
     "metadata": {},
     "output_type": "display_data"
    }
   ],
   "source": [
    "video = plot_animation(frames)\n",
    "HTML(video.to_html5_video())"
   ]
  },
  {
   "cell_type": "code",
   "execution_count": 29,
   "metadata": {
    "collapsed": true,
    "deletable": true,
    "editable": true
   },
   "outputs": [],
   "source": [
    "import tensorflow as tf"
   ]
  },
  {
   "cell_type": "code",
   "execution_count": 30,
   "metadata": {
    "collapsed": true,
    "deletable": true,
    "editable": true
   },
   "outputs": [],
   "source": [
    "from tensorflow.contrib.layers import fully_connected"
   ]
  },
  {
   "cell_type": "code",
   "execution_count": 31,
   "metadata": {
    "collapsed": true,
    "deletable": true,
    "editable": true
   },
   "outputs": [],
   "source": [
    "# 1 specify neural net architecture\n",
    "\n",
    "n_inputs = 4 # number of observations\n",
    "n_hidden = 4 # number of neurons in hidden layer\n",
    "n_outputs = 1  # probablity of accelerating left\n",
    "\n",
    "initializer = tf.contrib.layers.variance_scaling_initializer()"
   ]
  },
  {
   "cell_type": "code",
   "execution_count": 32,
   "metadata": {
    "collapsed": true,
    "deletable": true,
    "editable": true
   },
   "outputs": [],
   "source": [
    "# build the neural network\n",
    "\n",
    "X = tf.placeholder(tf.float32, shape=(None, n_inputs))\n",
    "hidden = fully_connected(X, n_hidden, activation_fn=tf.nn.elu,\n",
    "                        weights_initializer=initializer)\n",
    "logits = fully_connected(hidden, n_outputs, activation_fn=None,\n",
    "                        weights_initializer=initializer)\n",
    "outputs = tf.nn.sigmoid(logits)\n"
   ]
  },
  {
   "cell_type": "code",
   "execution_count": 33,
   "metadata": {
    "collapsed": true,
    "deletable": true,
    "editable": true
   },
   "outputs": [],
   "source": [
    "# select random action based on output probability\n",
    "\n",
    "p_left_and_right = tf.concat(axis=1, values=[outputs, 1-outputs])\n",
    "action = tf.multinomial(tf.log(p_left_and_right), num_samples=1)"
   ]
  },
  {
   "cell_type": "code",
   "execution_count": 34,
   "metadata": {
    "collapsed": true,
    "deletable": true,
    "editable": true
   },
   "outputs": [],
   "source": [
    "y = 1. - tf.to_float(action)  # target probability\n",
    "\n",
    "learning_rate = 0.01\n",
    "\n",
    "cross_entropy = tf.nn.sigmoid_cross_entropy_with_logits(labels=y, logits=logits)\n",
    "\n",
    "optimizer = tf.train.AdamOptimizer(learning_rate)\n",
    "\n",
    "grads_and_vars = optimizer.compute_gradients(cross_entropy)"
   ]
  },
  {
   "cell_type": "code",
   "execution_count": 35,
   "metadata": {
    "collapsed": true,
    "deletable": true,
    "editable": true
   },
   "outputs": [],
   "source": [
    "gradients = [grad for grad,variable in grads_and_vars]"
   ]
  },
  {
   "cell_type": "code",
   "execution_count": 36,
   "metadata": {
    "collapsed": true,
    "deletable": true,
    "editable": true
   },
   "outputs": [],
   "source": [
    "gradient_placeholders = []\n",
    "\n",
    "grads_and_vars_feed = []\n",
    "\n",
    "for grad, variable in grads_and_vars:\n",
    "    gradient_placeholder = tf.placeholder(tf.float32, shape=grad.get_shape())\n",
    "    gradient_placeholders.append(gradient_placeholder)\n",
    "    grads_and_vars_feed.append((gradient_placeholder, variable))\n",
    "    \n",
    "training_op = optimizer.apply_gradients(grads_and_vars_feed)\n",
    "\n",
    "init = tf.global_variables_initializer()\n",
    "saver = tf.train.Saver()"
   ]
  },
  {
   "cell_type": "code",
   "execution_count": 51,
   "metadata": {
    "collapsed": true,
    "deletable": true,
    "editable": true
   },
   "outputs": [],
   "source": [
    "def discount_rewards(rewards, discount_rate):\n",
    "    discounted_rewards = np.empty(len(rewards))\n",
    "    cumulative_rewards = 0\n",
    "    \n",
    "    for step in reversed(range(len(rewards))):\n",
    "        cumulative_rewards = rewards[step] + cumulative_rewards * discount_rate\n",
    "        discounted_rewards[step] = cumulative_rewards\n",
    "    return discounted_rewards\n",
    "\n",
    "def discount_and_normalize_rewards(all_rewards, discount_rate):\n",
    "    all_discounted_rewards = [discount_rewards(rewards, discount_rate) for rewards in all_rewards]\n",
    "    flat_rewards = np.concatenate(all_discounted_rewards)\n",
    "    reward_mean = flat_rewards.mean()\n",
    "    reward_std = flat_rewards.std()\n",
    "    \n",
    "    return [(discount_rewards - reward_mean)/reward_std for discount_rewards \n",
    "           in all_discounted_rewards]"
   ]
  },
  {
   "cell_type": "code",
   "execution_count": 52,
   "metadata": {
    "collapsed": false,
    "deletable": true,
    "editable": true
   },
   "outputs": [],
   "source": [
    "l = discount_rewards([10,0,-50], discount_rate=0.8)"
   ]
  },
  {
   "cell_type": "code",
   "execution_count": 53,
   "metadata": {
    "collapsed": false,
    "deletable": true,
    "editable": true
   },
   "outputs": [
    {
     "data": {
      "text/plain": [
       "-37.333333333333336"
      ]
     },
     "execution_count": 53,
     "metadata": {},
     "output_type": "execute_result"
    }
   ],
   "source": [
    "l.mean()"
   ]
  },
  {
   "cell_type": "code",
   "execution_count": 54,
   "metadata": {
    "collapsed": false,
    "deletable": true,
    "editable": true
   },
   "outputs": [
    {
     "data": {
      "text/plain": [
       "11.585431464655176"
      ]
     },
     "execution_count": 54,
     "metadata": {},
     "output_type": "execute_result"
    }
   ],
   "source": [
    "l.std()"
   ]
  },
  {
   "cell_type": "code",
   "execution_count": 58,
   "metadata": {
    "collapsed": false,
    "deletable": true,
    "editable": true
   },
   "outputs": [
    {
     "data": {
      "text/plain": [
       "array([-22., -40., -50.])"
      ]
     },
     "execution_count": 58,
     "metadata": {},
     "output_type": "execute_result"
    }
   ],
   "source": [
    "l"
   ]
  },
  {
   "cell_type": "code",
   "execution_count": 59,
   "metadata": {
    "collapsed": false,
    "deletable": true,
    "editable": true
   },
   "outputs": [
    {
     "data": {
      "text/plain": [
       "1.3238341968911915"
      ]
     },
     "execution_count": 59,
     "metadata": {},
     "output_type": "execute_result"
    }
   ],
   "source": [
    "(-22+37.33)/11.58"
   ]
  },
  {
   "cell_type": "code",
   "execution_count": 60,
   "metadata": {
    "collapsed": false,
    "deletable": true,
    "editable": true
   },
   "outputs": [
    {
     "data": {
      "text/plain": [
       "[array([-0.28435071, -0.86597718, -1.18910299]),\n",
       " array([ 1.26665318,  1.0727777 ])]"
      ]
     },
     "execution_count": 60,
     "metadata": {},
     "output_type": "execute_result"
    }
   ],
   "source": [
    "discount_and_normalize_rewards([[10,0,-50], [10,20]], discount_rate=0.8)"
   ]
  },
  {
   "cell_type": "code",
   "execution_count": 62,
   "metadata": {
    "collapsed": false,
    "deletable": true,
    "editable": true
   },
   "outputs": [],
   "source": [
    "n_iterations = 250   # number of training iterations\n",
    "n_max_steps = 1000   # max steps per episode\n",
    "n_games_per_update = 10  # train policy every 10 episodes\n",
    "save_iterations = 10\n",
    "discount_rate = 0.95\n",
    "\n",
    "with tf.Session() as sess:\n",
    "    init.run()\n",
    "    \n",
    "    for iteration in range(n_iterations):\n",
    "        all_rewards = []  # all sequence of raw rewards for each episode\n",
    "        all_gradients = [] # gradients saved at each step of each episode\n",
    "        \n",
    "        for game in range(n_games_per_update):\n",
    "            \n",
    "            current_rewards = []  # all rewards from current episode\n",
    "            current_gradients = [] # all gradients from current episode\n",
    "            obs = env.reset()\n",
    "            \n",
    "            for step in range(n_max_steps):\n",
    "                action_val, gradients_val = sess.run([action, gradients],\n",
    "                                                    feed_dict={X:obs.reshape(1, n_inputs)}) # one obs\n",
    "                obs, reward, done, info = env.step(action_val[0][0])\n",
    "                current_rewards.append(reward)\n",
    "                current_gradients.append(gradients_val)\n",
    "                \n",
    "                if done:\n",
    "                    break\n",
    "            all_rewards.append(current_rewards)\n",
    "            all_gradients.append(current_gradients)\n",
    "            \n",
    "        # now we have run the policy for 10 episodes and are ready\n",
    "        # for a policy update using the algo described before\n",
    "        \n",
    "        all_rewards = discount_and_normalize_rewards(all_rewards, discount_rate)\n",
    "        feed_dict = {}\n",
    "        \n",
    "        for var_index, grad_placeholder in enumerate(gradient_placeholders):\n",
    "            # multiply gradient by action score and compute the mean\n",
    "            mean_gradients = np.mean(\n",
    "                [reward * all_gradients[game_index][step][var_index]\n",
    "                for game_index, rewards in enumerate(all_rewards)\n",
    "                for step,reward in enumerate(rewards)], axis=0\n",
    "            )\n",
    "            feed_dict[grad_placeholder] = mean_gradients\n",
    "        sess.run(training_op, feed_dict=feed_dict)\n",
    "        if iteration % save_iterations == 0:\n",
    "            saver.save(sess, \"./my_policy_cart_pole.ckpt\")\n",
    "        \n",
    "\n"
   ]
  },
  {
   "cell_type": "code",
   "execution_count": null,
   "metadata": {
    "collapsed": true,
    "deletable": true,
    "editable": true
   },
   "outputs": [],
   "source": []
  }
 ],
 "metadata": {
  "kernelspec": {
   "display_name": "Python 3",
   "language": "python",
   "name": "python3"
  },
  "language_info": {
   "codemirror_mode": {
    "name": "ipython",
    "version": 3
   },
   "file_extension": ".py",
   "mimetype": "text/x-python",
   "name": "python",
   "nbconvert_exporter": "python",
   "pygments_lexer": "ipython3",
   "version": "3.5.2"
  }
 },
 "nbformat": 4,
 "nbformat_minor": 2
}
